{
 "cells": [
  {
   "cell_type": "code",
   "execution_count": 5,
   "metadata": {},
   "outputs": [
    {
     "name": "stdout",
     "output_type": "stream",
     "text": [
      "mv ./include/bin2freq.cpp ./src/\n",
      "mv ./include/cepstrum.cpp ./src/\n",
      "mv ./include/bfcc.cpp ./src/\n",
      "mv ./include/freq2bin.cpp ./src/\n",
      "mv ./include/mfcc.cpp ./src/\n",
      "mv ./include/attackTime.cpp ./src/\n",
      "mv ./include/peakSample.cpp ./src/\n",
      "mv ./include/barkSpec.cpp ./src/\n",
      "mv ./include/barkSpecBrightness.cpp ./src/\n",
      "mv ./include/zeroCrossing.cpp ./src/\n"
     ]
    }
   ],
   "source": [
    "from glob import glob\n",
    "import os\n",
    "\n",
    "# glob('./include/*.cpp')\n",
    "\n",
    "if os.path.exists('./src') == False:\n",
    "    os.mkdir('./src')\n",
    "for e in glob('./include/*.cpp'):\n",
    "    cmd = 'mv ' + e + ' ./src/'\n",
    "    print(cmd)\n",
    "    os.system(cmd)"
   ]
  },
  {
   "cell_type": "code",
   "execution_count": 8,
   "metadata": {},
   "outputs": [
    {
     "data": {
      "text/plain": [
       "0"
      ]
     },
     "execution_count": 8,
     "metadata": {},
     "output_type": "execute_result"
    }
   ],
   "source": [
    "os.system('mv ~/Desktop/BAKLIBcpp-timbreID/include/bin2freq.h ./include/')\n",
    "os.system('mv ~/Desktop/BAKLIBcpp-timbreID/include/cepstrum.h ./include/')\n",
    "os.system('mv ~/Desktop/BAKLIBcpp-timbreID/include/bfcc.h ./include/')\n",
    "os.system('mv ~/Desktop/BAKLIBcpp-timbreID/include/freq2bin.h ./include/')\n",
    "os.system('mv ~/Desktop/BAKLIBcpp-timbreID/include/mfcc.h ./include/')\n",
    "os.system('mv ~/Desktop/BAKLIBcpp-timbreID/include/attackTime.h ./include/')\n",
    "os.system('mv ~/Desktop/BAKLIBcpp-timbreID/include/peakSample.h ./include/')\n",
    "os.system('mv ~/Desktop/BAKLIBcpp-timbreID/include/barkSpec.h ./include/')\n",
    "os.system('mv ~/Desktop/BAKLIBcpp-timbreID/include/barkSpecBrightness.h ./include/')\n",
    "os.system('mv ~/Desktop/BAKLIBcpp-timbreID/include/zeroCrossing.h ./include/')"
   ]
  }
 ],
 "metadata": {
  "kernelspec": {
   "display_name": "Python 3",
   "language": "python",
   "name": "python3"
  },
  "language_info": {
   "codemirror_mode": {
    "name": "ipython",
    "version": 3
   },
   "file_extension": ".py",
   "mimetype": "text/x-python",
   "name": "python",
   "nbconvert_exporter": "python",
   "pygments_lexer": "ipython3",
   "version": "3.8.10"
  },
  "orig_nbformat": 4
 },
 "nbformat": 4,
 "nbformat_minor": 2
}
